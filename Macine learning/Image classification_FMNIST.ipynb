{
 "cells": [
  {
   "cell_type": "code",
   "execution_count": 1,
   "metadata": {},
   "outputs": [],
   "source": [
    "import pandas as pd\n",
    "import numpy as np\n",
    "import seaborn as sns\n",
    "import matplotlib.pyplot as plt"
   ]
  },
  {
   "cell_type": "markdown",
   "metadata": {},
   "source": [
    "# Image Classification"
   ]
  },
  {
   "cell_type": "code",
   "execution_count": 2,
   "metadata": {},
   "outputs": [],
   "source": [
    "X_train = np.load('Fashion_MNIST/X_train.npy')\n",
    "y_train = np.load('Fashion_MNIST/y_train.npy')\n",
    "X_test = np.load('Fashion_MNIST/X_test.npy')\n",
    "y_test = np.load('Fashion_MNIST/y_test.npy')"
   ]
  },
  {
   "cell_type": "code",
   "execution_count": 3,
   "metadata": {},
   "outputs": [],
   "source": [
    "label2cat = {0: 'T-shirt/top',\n",
    "             1: 'Trouser',\n",
    "             2: 'Pullover',\n",
    "             3: 'Dress',\n",
    "             4: 'Coat',\n",
    "             5: 'Sandal',\n",
    "             6: 'Shirt',\n",
    "             7: 'Sneaker',\n",
    "             8: 'Bag',\n",
    "             9: 'Ankle boot'}"
   ]
  },
  {
   "cell_type": "code",
   "execution_count": 4,
   "metadata": {},
   "outputs": [
    {
     "data": {
      "text/plain": [
       "'Sandal'"
      ]
     },
     "execution_count": 4,
     "metadata": {},
     "output_type": "execute_result"
    },
    {
     "data": {
      "image/png": "[encoded data removed]",
      "text/plain": [
       "<Figure size 144x144 with 1 Axes>"
      ]
     },
     "metadata": {},
     "output_type": "display_data"
    }
   ],
   "source": [
    "plt.figure(figsize=(2, 2))\n",
    "i = np.random.randint(5000)\n",
    "plt.imshow(X_train[i].reshape(28, 28), cmap='Greys')\n",
    "label2cat[y_train[i]]"
   ]
  },
  {
   "cell_type": "markdown",
   "metadata": {},
   "source": [
    "Choose an algorithm that you think it would perform better than the others\n",
    "\n",
    "Make a pipeline of `StandardScaler`, `PCA` and your classifier of choice.\n",
    "\n",
    "Train and evaluation your result by using `GridsearchCV` for finding the best parameters for your classifier."
   ]
  },
  {
   "cell_type": "code",
   "execution_count": 6,
   "metadata": {},
   "outputs": [],
   "source": [
    "from sklearn.preprocessing import StandardScaler\n",
    "from sklearn.decomposition import PCA\n",
    "from sklearn.neighbors import KNeighborsClassifier\n",
    "from sklearn.linear_model import LogisticRegression\n",
    "from sklearn.ensemble import RandomForestClassifier\n",
    "from sklearn.pipeline import Pipeline\n",
    "from sklearn.model_selection import GridSearchCV\n",
    "from sklearn.metrics import classification_report, f1_score"
   ]
  },
  {
   "cell_type": "code",
   "execution_count": 7,
   "metadata": {},
   "outputs": [],
   "source": [
    "X_train = X_train/255\n",
    "X_test = X_test/255"
   ]
  },
  {
   "cell_type": "markdown",
   "metadata": {},
   "source": [
    "### KNN"
   ]
  },
  {
   "cell_type": "code",
   "execution_count": 8,
   "metadata": {},
   "outputs": [
    {
     "name": "stdout",
     "output_type": "stream",
     "text": [
      "Fitting 3 folds for each of 9 candidates, totalling 27 fits\n"
     ]
    },
    {
     "name": "stderr",
     "output_type": "stream",
     "text": [
      "[Parallel(n_jobs=1)]: Done  27 out of  27 | elapsed:  3.0min finished\n"
     ]
    },
    {
     "data": {
      "text/plain": [
       "GridSearchCV(cv=3, error_score='raise',\n",
       "       estimator=Pipeline(memory=None,\n",
       "     steps=[('scaler', StandardScaler(copy=True, with_mean=True, with_std=True)), ('pca', PCA(copy=True, iterated_power='auto', n_components=None, random_state=None,\n",
       "  svd_solver='auto', tol=0.0, whiten=False)), ('clf', KNeighborsClassifier(algorithm='auto', leaf_size=30, metric='minkowski',\n",
       "           metric_params=None, n_jobs=1, n_neighbors=5, p=2,\n",
       "           weights='uniform'))]),\n",
       "       fit_params=None, iid=True, n_jobs=1,\n",
       "       param_grid={'pca__n_components': [0.85, 0.9, 0.95], 'clf__n_neighbors': [5, 10, 20]},\n",
       "       pre_dispatch='2*n_jobs', refit=True, return_train_score='warn',\n",
       "       scoring='f1_macro', verbose=1)"
      ]
     },
     "execution_count": 8,
     "metadata": {},
     "output_type": "execute_result"
    }
   ],
   "source": [
    "steps = [('scaler', StandardScaler()),\n",
    "         ('pca', PCA()),\n",
    "         ('clf', KNeighborsClassifier())]\n",
    "\n",
    "pipe_knn = Pipeline(steps)\n",
    "\n",
    "pipe_knn.fit(X_train, y_train)\n",
    "train_predictions = pipe_knn.predict(X_train)\n",
    "test_predictions = pipe_knn.predict(X_test)\n",
    "\n",
    "params = {\"pca__n_components\":[0.85, 0.9, 0.95],\n",
    "         \"clf__n_neighbors\":[5, 10, 20]}\n",
    "\n",
    "gs_pipe_knn = GridSearchCV(pipe_knn, params, scoring='f1_macro', cv=3, verbose=1)\n",
    "gs_pipe_knn.fit(X_train, y_train)"
   ]
  },
  {
   "cell_type": "code",
   "execution_count": 9,
   "metadata": {},
   "outputs": [
    {
     "name": "stdout",
     "output_type": "stream",
     "text": [
      "TRAIN:\n",
      "             precision    recall  f1-score   support\n",
      "\n",
      "          0       0.79      0.90      0.84       457\n",
      "          1       0.99      0.97      0.98       556\n",
      "          2       0.80      0.81      0.80       504\n",
      "          3       0.92      0.89      0.90       501\n",
      "          4       0.76      0.86      0.81       488\n",
      "          5       0.96      0.93      0.94       493\n",
      "          6       0.76      0.60      0.67       493\n",
      "          7       0.94      0.94      0.94       512\n",
      "          8       0.97      0.93      0.95       490\n",
      "          9       0.91      0.97      0.94       506\n",
      "\n",
      "avg / total       0.88      0.88      0.88      5000\n",
      "\n",
      "TEST:\n",
      "             precision    recall  f1-score   support\n",
      "\n",
      "          0       0.84      0.80      0.82        20\n",
      "          1       0.96      0.96      0.96        27\n",
      "          2       0.79      0.81      0.80        27\n",
      "          3       0.74      0.82      0.78        17\n",
      "          4       0.71      0.71      0.71        21\n",
      "          5       1.00      0.94      0.97        16\n",
      "          6       0.75      0.75      0.75        16\n",
      "          7       0.90      0.90      0.90        20\n",
      "          8       1.00      0.89      0.94        18\n",
      "          9       0.89      0.94      0.92        18\n",
      "\n",
      "avg / total       0.86      0.85      0.86       200\n",
      "\n"
     ]
    }
   ],
   "source": [
    "train_predictions = gs_pipe_knn.predict(X_train)\n",
    "test_predictions = gs_pipe_knn.predict(X_test)\n",
    "\n",
    "print(\"TRAIN:\")\n",
    "print(classification_report(y_train, train_predictions))\n",
    "\n",
    "print(\"TEST:\")\n",
    "print(classification_report(y_test, test_predictions))"
   ]
  },
  {
   "cell_type": "code",
   "execution_count": 10,
   "metadata": {},
   "outputs": [
    {
     "data": {
      "text/plain": [
       "{'clf__n_neighbors': 5, 'pca__n_components': 0.9}"
      ]
     },
     "execution_count": 10,
     "metadata": {},
     "output_type": "execute_result"
    }
   ],
   "source": [
    "gs_pipe_knn.best_params_"
   ]
  },
  {
   "cell_type": "markdown",
   "metadata": {},
   "source": [
    "### Logistic regression"
   ]
  },
  {
   "cell_type": "code",
   "execution_count": 16,
   "metadata": {},
   "outputs": [
    {
     "name": "stdout",
     "output_type": "stream",
     "text": [
      "Fitting 2 folds for each of 24 candidates, totalling 48 fits\n"
     ]
    },
    {
     "name": "stderr",
     "output_type": "stream",
     "text": [
      "[Parallel(n_jobs=1)]: Done  48 out of  48 | elapsed:  6.2min finished\n"
     ]
    },
    {
     "data": {
      "text/plain": [
       "GridSearchCV(cv=2, error_score='raise',\n",
       "       estimator=Pipeline(memory=None,\n",
       "     steps=[('scaler', StandardScaler(copy=True, with_mean=True, with_std=True)), ('pca', PCA(copy=True, iterated_power='auto', n_components=None, random_state=None,\n",
       "  svd_solver='auto', tol=0.0, whiten=False)), ('clf', LogisticRegression(C=1.0, class_weight=None, dua...y='l2', random_state=None, solver='liblinear', tol=0.0001,\n",
       "          verbose=0, warm_start=False))]),\n",
       "       fit_params=None, iid=True, n_jobs=1,\n",
       "       param_grid={'pca__n_components': [0.85, 0.9, 0.95, 0.99], 'clf__penalty': ['l1', 'l2'], 'clf__C': [0.8, 0.9, 0.95]},\n",
       "       pre_dispatch='2*n_jobs', refit=True, return_train_score='warn',\n",
       "       scoring='f1_macro', verbose=1)"
      ]
     },
     "execution_count": 16,
     "metadata": {},
     "output_type": "execute_result"
    }
   ],
   "source": [
    "steps = [('scaler', StandardScaler()),\n",
    "         ('pca', PCA()),\n",
    "         ('clf', LogisticRegression())]\n",
    "\n",
    "pipe_lr = Pipeline(steps)\n",
    "\n",
    "pipe_lr.fit(X_train, y_train)\n",
    "train_predictions = pipe_lr.predict(X_train)\n",
    "test_predictions = pipe_lr.predict(X_test)\n",
    "\n",
    "params = {\"pca__n_components\":[0.85, 0.9, 0.95, 0.99],\n",
    "         \"clf__penalty\":[\"l1\", \"l2\"],\n",
    "         \"clf__C\":[0.8, 0.9, 0.95]}\n",
    "\n",
    "gs_pipe_lr = GridSearchCV(pipe_lr, params, scoring='f1_macro', cv=2, verbose=1)\n",
    "gs_pipe_lr.fit(X_train, y_train)"
   ]
  },
  {
   "cell_type": "code",
   "execution_count": 17,
   "metadata": {},
   "outputs": [
    {
     "data": {
      "text/plain": [
       "{'clf__C': 0.8, 'clf__penalty': 'l1', 'pca__n_components': 0.9}"
      ]
     },
     "execution_count": 17,
     "metadata": {},
     "output_type": "execute_result"
    }
   ],
   "source": [
    "gs_pipe_lr.best_params_"
   ]
  },
  {
   "cell_type": "code",
   "execution_count": 18,
   "metadata": {},
   "outputs": [
    {
     "name": "stdout",
     "output_type": "stream",
     "text": [
      "TRAIN:\n",
      "             precision    recall  f1-score   support\n",
      "\n",
      "          0       0.82      0.85      0.84       457\n",
      "          1       0.98      0.98      0.98       556\n",
      "          2       0.77      0.77      0.77       504\n",
      "          3       0.88      0.91      0.89       501\n",
      "          4       0.77      0.83      0.80       488\n",
      "          5       0.96      0.97      0.96       493\n",
      "          6       0.74      0.60      0.66       493\n",
      "          7       0.96      0.95      0.95       512\n",
      "          8       0.96      0.97      0.97       490\n",
      "          9       0.96      0.97      0.97       506\n",
      "\n",
      "avg / total       0.88      0.88      0.88      5000\n",
      "\n",
      "TEST:\n",
      "             precision    recall  f1-score   support\n",
      "\n",
      "          0       0.89      0.80      0.84        20\n",
      "          1       0.93      1.00      0.96        27\n",
      "          2       0.88      0.78      0.82        27\n",
      "          3       0.82      0.82      0.82        17\n",
      "          4       0.76      0.62      0.68        21\n",
      "          5       0.88      0.94      0.91        16\n",
      "          6       0.52      0.75      0.62        16\n",
      "          7       0.86      0.95      0.90        20\n",
      "          8       0.94      0.94      0.94        18\n",
      "          9       1.00      0.83      0.91        18\n",
      "\n",
      "avg / total       0.86      0.84      0.85       200\n",
      "\n"
     ]
    }
   ],
   "source": [
    "train_predictions = gs_pipe_lr.predict(X_train)\n",
    "test_predictions = gs_pipe_lr.predict(X_test)\n",
    "\n",
    "print(\"TRAIN:\")\n",
    "print(classification_report(y_train, train_predictions))\n",
    "\n",
    "print(\"TEST:\")\n",
    "print(classification_report(y_test, test_predictions))"
   ]
  },
  {
   "cell_type": "markdown",
   "metadata": {},
   "source": [
    "### Random Forest"
   ]
  },
  {
   "cell_type": "code",
   "execution_count": 20,
   "metadata": {},
   "outputs": [
    {
     "name": "stdout",
     "output_type": "stream",
     "text": [
      "Fitting 2 folds for each of 96 candidates, totalling 192 fits\n"
     ]
    },
    {
     "name": "stderr",
     "output_type": "stream",
     "text": [
      "[Parallel(n_jobs=1)]: Done 192 out of 192 | elapsed: 14.5min finished\n"
     ]
    },
    {
     "data": {
      "text/plain": [
       "GridSearchCV(cv=2, error_score='raise',\n",
       "       estimator=Pipeline(memory=None,\n",
       "     steps=[('scaler', StandardScaler(copy=True, with_mean=True, with_std=True)), ('pca', PCA(copy=True, iterated_power='auto', n_components=None, random_state=None,\n",
       "  svd_solver='auto', tol=0.0, whiten=False)), ('clf', RandomForestClassifier(bootstrap=True, class_weight=None, criterion='gini',\n",
       "         ...n_jobs=1,\n",
       "            oob_score=False, random_state=None, verbose=0,\n",
       "            warm_start=False))]),\n",
       "       fit_params=None, iid=True, n_jobs=1,\n",
       "       param_grid={'pca__n_components': [0.8, 0.85, 0.9], 'clf__n_estimators': [10, 50, 100, 200], 'clf__max_depth': [None, 3, 5, 10], 'clf__criterion': ['gini', 'entropy']},\n",
       "       pre_dispatch='2*n_jobs', refit=True, return_train_score='warn',\n",
       "       scoring='f1_macro', verbose=1)"
      ]
     },
     "execution_count": 20,
     "metadata": {},
     "output_type": "execute_result"
    }
   ],
   "source": [
    "steps = [('scaler', StandardScaler()),\n",
    "         ('pca', PCA()),\n",
    "         ('clf', RandomForestClassifier())]\n",
    "\n",
    "pipe_rf = Pipeline(steps)\n",
    "\n",
    "pipe_rf.fit(X_train, y_train)\n",
    "train_predictions = pipe_rf.predict(X_train)\n",
    "test_predictions = pipe_rf.predict(X_test)\n",
    "\n",
    "params = {\"pca__n_components\":[0.8, 0.85, 0.9],\n",
    "          \"clf__n_estimators\":[10, 50, 100, 200],\n",
    "          \"clf__max_depth\":[None, 3, 5, 10],\n",
    "          \"clf__criterion\": ['gini', 'entropy']}\n",
    "\n",
    "gs_pipe_rf = GridSearchCV(pipe_rf, params, scoring='f1_macro', cv=2, verbose=1)\n",
    "gs_pipe_rf.fit(X_train, y_train)"
   ]
  },
  {
   "cell_type": "code",
   "execution_count": 21,
   "metadata": {},
   "outputs": [
    {
     "data": {
      "text/plain": [
       "{'clf__C': 0.8, 'clf__penalty': 'l1', 'pca__n_components': 0.9}"
      ]
     },
     "execution_count": 21,
     "metadata": {},
     "output_type": "execute_result"
    }
   ],
   "source": [
    "gs_pipe_lr.best_params_"
   ]
  },
  {
   "cell_type": "code",
   "execution_count": 22,
   "metadata": {},
   "outputs": [
    {
     "name": "stdout",
     "output_type": "stream",
     "text": [
      "TRAIN:\n",
      "             precision    recall  f1-score   support\n",
      "\n",
      "          0       0.82      0.85      0.84       457\n",
      "          1       0.98      0.98      0.98       556\n",
      "          2       0.77      0.77      0.77       504\n",
      "          3       0.88      0.91      0.89       501\n",
      "          4       0.77      0.83      0.80       488\n",
      "          5       0.96      0.97      0.96       493\n",
      "          6       0.74      0.60      0.66       493\n",
      "          7       0.96      0.95      0.95       512\n",
      "          8       0.96      0.97      0.97       490\n",
      "          9       0.96      0.97      0.97       506\n",
      "\n",
      "avg / total       0.88      0.88      0.88      5000\n",
      "\n",
      "TEST:\n",
      "             precision    recall  f1-score   support\n",
      "\n",
      "          0       0.89      0.80      0.84        20\n",
      "          1       0.93      1.00      0.96        27\n",
      "          2       0.88      0.78      0.82        27\n",
      "          3       0.82      0.82      0.82        17\n",
      "          4       0.76      0.62      0.68        21\n",
      "          5       0.88      0.94      0.91        16\n",
      "          6       0.52      0.75      0.62        16\n",
      "          7       0.86      0.95      0.90        20\n",
      "          8       0.94      0.94      0.94        18\n",
      "          9       1.00      0.83      0.91        18\n",
      "\n",
      "avg / total       0.86      0.84      0.85       200\n",
      "\n"
     ]
    }
   ],
   "source": [
    "train_predictions = gs_pipe_lr.predict(X_train)\n",
    "test_predictions = gs_pipe_lr.predict(X_test)\n",
    "\n",
    "print(\"TRAIN:\")\n",
    "print(classification_report(y_train, train_predictions))\n",
    "\n",
    "print(\"TEST:\")\n",
    "print(classification_report(y_test, test_predictions))"
   ]
  }
 ],
 "metadata": {
  "kernelspec": {
   "display_name": "Python 3",
   "language": "python",
   "name": "python3"
  },
  "language_info": {
   "codemirror_mode": {
    "name": "ipython",
    "version": 3
   },
   "file_extension": ".py",
   "mimetype": "text/x-python",
   "name": "python",
   "nbconvert_exporter": "python",
   "pygments_lexer": "ipython3",
   "version": "3.6.5"
  }
 },
 "nbformat": 4,
 "nbformat_minor": 2
}
