{
 "cells": [
  {
   "cell_type": "code",
   "execution_count": 17,
   "metadata": {},
   "outputs": [],
   "source": [
    "import numpy as np\n",
    "import pandas as pd"
   ]
  },
  {
   "cell_type": "code",
   "execution_count": 18,
   "metadata": {},
   "outputs": [],
   "source": [
    "df = pd.read_csv('HAM10000_metadata.csv')"
   ]
  },
  {
   "cell_type": "code",
   "execution_count": 19,
   "metadata": {},
   "outputs": [
    {
     "data": {
      "text/html": [
       "<div>\n",
       "<style scoped>\n",
       "    .dataframe tbody tr th:only-of-type {\n",
       "        vertical-align: middle;\n",
       "    }\n",
       "\n",
       "    .dataframe tbody tr th {\n",
       "        vertical-align: top;\n",
       "    }\n",
       "\n",
       "    .dataframe thead th {\n",
       "        text-align: right;\n",
       "    }\n",
       "</style>\n",
       "<table border=\"1\" class=\"dataframe\">\n",
       "  <thead>\n",
       "    <tr style=\"text-align: right;\">\n",
       "      <th></th>\n",
       "      <th>lesion_id</th>\n",
       "      <th>image_id</th>\n",
       "      <th>dx</th>\n",
       "      <th>dx_type</th>\n",
       "      <th>age</th>\n",
       "      <th>sex</th>\n",
       "      <th>localization</th>\n",
       "    </tr>\n",
       "  </thead>\n",
       "  <tbody>\n",
       "    <tr>\n",
       "      <th>0</th>\n",
       "      <td>HAM_0000118</td>\n",
       "      <td>ISIC_0027419</td>\n",
       "      <td>bkl</td>\n",
       "      <td>histo</td>\n",
       "      <td>80.0</td>\n",
       "      <td>male</td>\n",
       "      <td>scalp</td>\n",
       "    </tr>\n",
       "    <tr>\n",
       "      <th>1</th>\n",
       "      <td>HAM_0000118</td>\n",
       "      <td>ISIC_0025030</td>\n",
       "      <td>bkl</td>\n",
       "      <td>histo</td>\n",
       "      <td>80.0</td>\n",
       "      <td>male</td>\n",
       "      <td>scalp</td>\n",
       "    </tr>\n",
       "    <tr>\n",
       "      <th>2</th>\n",
       "      <td>HAM_0002730</td>\n",
       "      <td>ISIC_0026769</td>\n",
       "      <td>bkl</td>\n",
       "      <td>histo</td>\n",
       "      <td>80.0</td>\n",
       "      <td>male</td>\n",
       "      <td>scalp</td>\n",
       "    </tr>\n",
       "    <tr>\n",
       "      <th>3</th>\n",
       "      <td>HAM_0002730</td>\n",
       "      <td>ISIC_0025661</td>\n",
       "      <td>bkl</td>\n",
       "      <td>histo</td>\n",
       "      <td>80.0</td>\n",
       "      <td>male</td>\n",
       "      <td>scalp</td>\n",
       "    </tr>\n",
       "    <tr>\n",
       "      <th>4</th>\n",
       "      <td>HAM_0001466</td>\n",
       "      <td>ISIC_0031633</td>\n",
       "      <td>bkl</td>\n",
       "      <td>histo</td>\n",
       "      <td>75.0</td>\n",
       "      <td>male</td>\n",
       "      <td>ear</td>\n",
       "    </tr>\n",
       "  </tbody>\n",
       "</table>\n",
       "</div>"
      ],
      "text/plain": [
       "     lesion_id      image_id   dx dx_type   age   sex localization\n",
       "0  HAM_0000118  ISIC_0027419  bkl   histo  80.0  male        scalp\n",
       "1  HAM_0000118  ISIC_0025030  bkl   histo  80.0  male        scalp\n",
       "2  HAM_0002730  ISIC_0026769  bkl   histo  80.0  male        scalp\n",
       "3  HAM_0002730  ISIC_0025661  bkl   histo  80.0  male        scalp\n",
       "4  HAM_0001466  ISIC_0031633  bkl   histo  75.0  male          ear"
      ]
     },
     "execution_count": 19,
     "metadata": {},
     "output_type": "execute_result"
    }
   ],
   "source": [
    "df.head()"
   ]
  },
  {
   "cell_type": "code",
   "execution_count": 20,
   "metadata": {},
   "outputs": [
    {
     "data": {
      "text/plain": [
       "nv       6705\n",
       "mel      1113\n",
       "bkl      1099\n",
       "bcc       514\n",
       "akiec     327\n",
       "vasc      142\n",
       "df        115\n",
       "Name: dx, dtype: int64"
      ]
     },
     "execution_count": 20,
     "metadata": {},
     "output_type": "execute_result"
    }
   ],
   "source": [
    "df['dx'].value_counts()"
   ]
  },
  {
   "cell_type": "code",
   "execution_count": 43,
   "metadata": {},
   "outputs": [
    {
     "data": {
      "text/plain": [
       "back               2192\n",
       "lower extremity    2077\n",
       "trunk              1404\n",
       "upper extremity    1118\n",
       "abdomen            1022\n",
       "face                745\n",
       "chest               407\n",
       "foot                319\n",
       "unknown             234\n",
       "neck                168\n",
       "scalp               128\n",
       "hand                 90\n",
       "ear                  56\n",
       "genital              48\n",
       "acral                 7\n",
       "Name: localization, dtype: int64"
      ]
     },
     "execution_count": 43,
     "metadata": {},
     "output_type": "execute_result"
    }
   ],
   "source": [
    "df['localization'].value_counts()"
   ]
  },
  {
   "cell_type": "code",
   "execution_count": 21,
   "metadata": {},
   "outputs": [],
   "source": [
    "d = {'nv':[i for i in df[df['dx'] == 'nv']['image_id']],\n",
    " 'mel':[i for i in df[df['dx'] == 'mel']['image_id']],\n",
    "'bkl':[i for i in df[df['dx'] == 'bkl']['image_id']],\n",
    "'bcc':[i for i in df[df['dx'] == 'bcc']['image_id']],\n",
    "'akiec':[i for i in df[df['dx'] == 'akiec']['image_id']],\n",
    "'vasc':[i for i in df[df['dx'] == 'vasc']['image_id']],\n",
    "'df':[i for i in df[df['dx'] == 'df']['image_id']]}"
   ]
  },
  {
   "cell_type": "code",
   "execution_count": 27,
   "metadata": {},
   "outputs": [],
   "source": [
    "import os\n",
    "from shutil import copyfile"
   ]
  },
  {
   "cell_type": "code",
   "execution_count": 39,
   "metadata": {
    "scrolled": true
   },
   "outputs": [],
   "source": [
    "for i in d.keys():\n",
    "    if not os.path.exists('data/train/{}'.format(i)):\n",
    "        os.makedirs('data/train/{}'.format(i))\n",
    "    "
   ]
  },
  {
   "cell_type": "code",
   "execution_count": 40,
   "metadata": {},
   "outputs": [],
   "source": [
    "for i in d.keys():\n",
    "    if not os.path.exists('data/test/{}'.format(i)):\n",
    "        os.makedirs('data/test/{}'.format(i))"
   ]
  },
  {
   "cell_type": "code",
   "execution_count": 41,
   "metadata": {},
   "outputs": [],
   "source": [
    "for i in os.listdir(\"HAM10000_images_part_1\"):\n",
    "    for j in d.keys():\n",
    "        if i.split('.')[0] in d[j]:\n",
    "            copyfile('HAM10000_images_part_1/{}'.format(i), 'data/train/{}/{}'.format(j,i))\n",
    "            "
   ]
  },
  {
   "cell_type": "code",
   "execution_count": 42,
   "metadata": {},
   "outputs": [],
   "source": [
    "for i in os.listdir(\"HAM10000_images_part_2\"):\n",
    "    for j in d.keys():\n",
    "        if i.split('.')[0] in d[j]:\n",
    "            copyfile('HAM10000_images_part_2/{}'.format(i), 'data/train/{}/{}'.format(j,i))"
   ]
  },
  {
   "cell_type": "code",
   "execution_count": 57,
   "metadata": {},
   "outputs": [],
   "source": [
    "import random\n",
    "import shutil"
   ]
  },
  {
   "cell_type": "code",
   "execution_count": 65,
   "metadata": {},
   "outputs": [],
   "source": [
    "for k in d.keys():\n",
    "    for i in random.sample(os.listdir('data/train/{}'.format(k)), int(len(d[k])*0.1)):\n",
    "        shutil.move('data/train/{}/{}'.format(k,i),'data/test/{}'.format(k))\n",
    "        \n",
    "        "
   ]
  },
  {
   "cell_type": "code",
   "execution_count": 78,
   "metadata": {},
   "outputs": [
    {
     "name": "stdout",
     "output_type": "stream",
     "text": [
      "Train\n",
      "----------------\n",
      "nv 6035\n",
      "mel 1002\n",
      "bkl 990\n",
      "bcc 463\n",
      "akiec 295\n",
      "vasc 128\n",
      "df 104\n"
     ]
    }
   ],
   "source": [
    "print(\"Train\")\n",
    "print(\"----------------\")\n",
    "for i in d.keys():\n",
    "    print(i, len(os.listdir('data/train/{}'.format(i))))"
   ]
  },
  {
   "cell_type": "code",
   "execution_count": 79,
   "metadata": {},
   "outputs": [
    {
     "name": "stdout",
     "output_type": "stream",
     "text": [
      "Test\n",
      "----------------\n",
      "nv 670\n",
      "mel 111\n",
      "bkl 109\n",
      "bcc 51\n",
      "akiec 32\n",
      "vasc 14\n",
      "df 11\n"
     ]
    }
   ],
   "source": [
    "print(\"Test\")\n",
    "print(\"----------------\")\n",
    "for i in d.keys():\n",
    "    print(i, len(os.listdir('data/test/{}'.format(i))))"
   ]
  },
  {
   "cell_type": "code",
   "execution_count": 71,
   "metadata": {},
   "outputs": [
    {
     "data": {
      "text/plain": [
       "nv       6705\n",
       "mel      1113\n",
       "bkl      1099\n",
       "bcc       514\n",
       "akiec     327\n",
       "vasc      142\n",
       "df        115\n",
       "Name: dx, dtype: int64"
      ]
     },
     "execution_count": 71,
     "metadata": {},
     "output_type": "execute_result"
    }
   ],
   "source": [
    "df['dx'].value_counts()"
   ]
  },
  {
   "cell_type": "code",
   "execution_count": 72,
   "metadata": {},
   "outputs": [],
   "source": [
    "x = 0\n",
    "for i in d.keys():\n",
    "    x+=len(os.listdir('data/train/{}'.format(i)))"
   ]
  },
  {
   "cell_type": "code",
   "execution_count": 73,
   "metadata": {},
   "outputs": [
    {
     "data": {
      "text/plain": [
       "9017"
      ]
     },
     "execution_count": 73,
     "metadata": {},
     "output_type": "execute_result"
    }
   ],
   "source": [
    "x"
   ]
  },
  {
   "cell_type": "code",
   "execution_count": 74,
   "metadata": {},
   "outputs": [],
   "source": [
    "y = 0\n",
    "for i in d.keys():\n",
    "    y+=len(os.listdir('data/test/{}'.format(i)))"
   ]
  },
  {
   "cell_type": "code",
   "execution_count": 75,
   "metadata": {},
   "outputs": [
    {
     "data": {
      "text/plain": [
       "998"
      ]
     },
     "execution_count": 75,
     "metadata": {},
     "output_type": "execute_result"
    }
   ],
   "source": [
    "y"
   ]
  },
  {
   "cell_type": "code",
   "execution_count": 76,
   "metadata": {},
   "outputs": [
    {
     "data": {
      "text/plain": [
       "10015"
      ]
     },
     "execution_count": 76,
     "metadata": {},
     "output_type": "execute_result"
    }
   ],
   "source": [
    "x+y"
   ]
  },
  {
   "cell_type": "code",
   "execution_count": 80,
   "metadata": {},
   "outputs": [],
   "source": [
    "from torchvision import datasets\n",
    "from torch.utils.data import DataLoader\n",
    "from torchvision.transforms import transforms\n",
    "\n",
    "def load_train_data(train_path, train_batch_size, size, shuffle = True):\n",
    "    transformers = transforms.Compose([\n",
    "                    transforms.Resize((size, size)),\n",
    "                    transforms.RandomHorizontalFlip(),\n",
    "                    transforms.ToTensor(),\n",
    "                    transforms.Normalize([0.485, 0.456, 0.406], [0.229, 0.224, 0.225])])\n",
    "    \n",
    "    set_data = datasets.ImageFolder(root = train_path, transform = transformers)\n",
    "    return DataLoader(set_data, batch_size = train_batch_size, shuffle = shuffle, num_workers = 1)\n",
    "\n",
    "def load_test_data(test_path, test_batch_size, size, shuffle = True):\n",
    "    transformers = transforms.Compose([transforms.Resize((size, size)),\n",
    "                                      transforms.ToTensor(),\n",
    "                                      transforms.Normalize([0.485, 0.456, 0.406], [0.229, 0.224, 0.225])])\n",
    "    \n",
    "    set_data = datasets.ImageFolder(root = test_path, transform = transformers)\n",
    "    return DataLoader(set_data, batch_size = test_batch_size, shuffle = shuffle, num_workers = 1)"
   ]
  },
  {
   "cell_type": "code",
   "execution_count": 82,
   "metadata": {},
   "outputs": [],
   "source": [
    "import torch.nn as nn\n",
    "\n",
    "#Best 0.81\n",
    "#lr = 0.001\n",
    "class ConvNet(nn.Module):\n",
    "    def __init__(self, num_classes):\n",
    "        super(ConvNet, self).__init__()\n",
    "\n",
    "        self.conv1 = nn.Conv2d(in_channels=3, out_channels=16,\n",
    "                               kernel_size=3, padding=1)\n",
    "\n",
    "        self.conv2 = nn.Conv2d(in_channels=16, out_channels=32,\n",
    "                               kernel_size=3, padding=1)\n",
    "\n",
    "        self.conv3 = nn.Conv2d(in_channels=32, out_channels=64,\n",
    "                               kernel_size=3, padding=1)\n",
    "        self.conv4 = nn.Conv2d(in_channels=64, out_channels=64,\n",
    "                               kernel_size=3, padding=1)\n",
    "\n",
    "        self.maxpool = nn.MaxPool2d(kernel_size=2)\n",
    "\n",
    "        self.dropout = nn.Dropout()\n",
    "\n",
    "        self.fc1 = nn.Linear(in_features=1024, out_features=128)\n",
    "        self.fc2 = nn.Linear(in_features=128, out_features=num_classes)\n",
    "\n",
    "        self.relu = nn.ReLU()\n",
    "\n",
    "\n",
    "    def forward(self, x):\n",
    "        #64x64x3\n",
    "        x = self.relu(self.conv1(x))\n",
    "        #64x64x16\n",
    "        x = self.maxpool(x)\n",
    "        #32x32x16\n",
    "        x = self.relu(self.conv2(x))\n",
    "        #32x32x32\n",
    "        x = self.maxpool(x)\n",
    "        #16x16x32\n",
    "        x = self.relu(self.conv3(x))\n",
    "        #16x16x64\n",
    "        x = self.maxpool(x)\n",
    "        #8x8x64\n",
    "        x = self.relu(self.conv4(x))\n",
    "        #8x8x64\n",
    "        x = self.maxpool(x)\n",
    "        #4x4x64\n",
    "        #Flatening\n",
    "        x = x.view(-1, 1024)\n",
    "\n",
    "        x = self.relu(self.fc1(x))\n",
    "        x = self.dropout(x)\n",
    "        x = self.fc2(x)\n",
    "\n",
    "        return x "
   ]
  },
  {
   "cell_type": "code",
   "execution_count": 87,
   "metadata": {},
   "outputs": [],
   "source": [
    "import torch\n",
    "from sklearn.metrics import classification_report\n",
    "from tqdm import tqdm\n",
    "\n",
    "model = ConvNet(7)\n",
    "\n",
    "state_dict = torch.load(\"C:/Users/Home/Desktop/Mnist_/skin-cancer-mnist-ham10000/saved_models/ConvNet_20.model\")\n",
    "model.load_state_dict(state_dict)\n",
    "\n",
    "data_size = 998\n",
    "test_batch_size = 64\n",
    "size = 64\n",
    "\n",
    "test_path = \"C:/Users/Home/Desktop/Mnist_/skin-cancer-mnist-ham10000/data/test/\"\n",
    "\n",
    "data_loader = load_test_data(test_path, test_batch_size, size, shuffle=False)\n",
    "\n",
    "def test():\n",
    "    model.eval()\n",
    "    acc = 0\n",
    "    y_hat = []\n",
    "    y_true = []\n",
    "    for X, y in tqdm(data_loader):\n",
    "#         X = X.view(-1, size*size*3)\n",
    "        out = model(X)\n",
    "        \n",
    "        predictions = torch.argmax(out, 1)\n",
    "        acc += torch.sum(predictions == y).item()\n",
    "        y_hat.append(predictions)\n",
    "        y_true.append(y)\n",
    "        \n",
    "    y_hat = torch.cat(y_hat)\n",
    "    y_true = torch.cat(y_true)\n",
    "    acc = acc/data_size\n",
    "    print(acc)\n",
    "    print(classification_report(y_hat, y_true))"
   ]
  },
  {
   "cell_type": "code",
   "execution_count": 88,
   "metadata": {},
   "outputs": [
    {
     "name": "stderr",
     "output_type": "stream",
     "text": [
      "100%|██████████████████████████████████████████████████████████████████████████████████| 16/16 [00:21<00:00,  1.04s/it]\n"
     ]
    },
    {
     "name": "stdout",
     "output_type": "stream",
     "text": [
      "0.7555110220440882\n"
     ]
    },
    {
     "name": "stderr",
     "output_type": "stream",
     "text": [
      "C:\\ProgramData\\Anaconda3\\lib\\site-packages\\sklearn\\metrics\\classification.py:1137: UndefinedMetricWarning: Recall and F-score are ill-defined and being set to 0.0 in labels with no true samples.\n",
      "  'recall', 'true', average, warn_for)\n"
     ]
    },
    {
     "name": "stdout",
     "output_type": "stream",
     "text": [
      "             precision    recall  f1-score   support\n",
      "\n",
      "          0       0.22      0.41      0.29        17\n",
      "          1       0.55      0.54      0.54        52\n",
      "          2       0.45      0.50      0.47        98\n",
      "          3       0.00      0.00      0.00         0\n",
      "          4       0.36      0.56      0.44        71\n",
      "          5       0.92      0.83      0.87       743\n",
      "          6       0.86      0.71      0.77        17\n",
      "\n",
      "avg / total       0.80      0.76      0.78       998\n",
      "\n"
     ]
    }
   ],
   "source": [
    "test()"
   ]
  },
  {
   "cell_type": "code",
   "execution_count": null,
   "metadata": {},
   "outputs": [],
   "source": []
  }
 ],
 "metadata": {
  "kernelspec": {
   "display_name": "Python 3",
   "language": "python",
   "name": "python3"
  },
  "language_info": {
   "codemirror_mode": {
    "name": "ipython",
    "version": 3
   },
   "file_extension": ".py",
   "mimetype": "text/x-python",
   "name": "python",
   "nbconvert_exporter": "python",
   "pygments_lexer": "ipython3",
   "version": "3.6.5"
  }
 },
 "nbformat": 4,
 "nbformat_minor": 2
}
